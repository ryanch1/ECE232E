{
 "cells": [
  {
   "cell_type": "code",
   "execution_count": 1,
   "metadata": {
    "_cell_guid": "b1076dfc-b9ad-4769-8c92-a6c4dae69d19",
    "_uuid": "8f2839f25d086af736a60e9eeb907d3b93b6e0e5",
    "execution": {
     "iopub.execute_input": "2020-08-09T01:28:46.352187Z",
     "iopub.status.busy": "2020-08-09T01:28:46.351402Z",
     "iopub.status.idle": "2020-08-09T01:28:46.354671Z",
     "shell.execute_reply": "2020-08-09T01:28:46.354142Z"
    },
    "papermill": {
     "duration": 0.01682,
     "end_time": "2020-08-09T01:28:46.354823",
     "exception": false,
     "start_time": "2020-08-09T01:28:46.338003",
     "status": "completed"
    },
    "tags": []
   },
   "outputs": [],
   "source": [
    "# This Python 3 environment comes with many helpful analytics libraries installed\n",
    "# It is defined by the kaggle/python Docker image: https://github.com/kaggle/docker-python\n",
    "# For example, here's several helpful packages to load\n",
    "\n",
    "import numpy as np # linear algebra\n",
    "import pandas as pd # data processing, CSV file I/O (e.g. pd.read_csv)\n",
    "\n",
    "# Input data files are available in the read-only \"../input/\" directory\n",
    "# For example, running this (by clicking run or pressing Shift+Enter) will list all files under the input directory\n",
    "\n",
    "import os\n",
    "for dirname, _, filenames in os.walk('/kaggle/input'):\n",
    "    for filename in filenames:\n",
    "        print(os.path.join(dirname, filename))\n",
    "\n",
    "# You can write up to 5GB to the current directory (/kaggle/working/) that gets preserved as output when you create a version using \"Save & Run All\" \n",
    "# You can also write temporary files to /kaggle/temp/, but they won't be saved outside of the current session"
   ]
  },
  {
   "cell_type": "code",
   "execution_count": 2,
   "metadata": {
    "execution": {
     "iopub.execute_input": "2020-08-09T01:28:46.372891Z",
     "iopub.status.busy": "2020-08-09T01:28:46.372025Z",
     "iopub.status.idle": "2020-08-09T01:28:46.374997Z",
     "shell.execute_reply": "2020-08-09T01:28:46.374356Z"
    },
    "papermill": {
     "duration": 0.013198,
     "end_time": "2020-08-09T01:28:46.375093",
     "exception": false,
     "start_time": "2020-08-09T01:28:46.361895",
     "status": "completed"
    },
    "tags": []
   },
   "outputs": [],
   "source": [
    "import numpy as np\n",
    "import pandas as pd\n",
    "import matplotlib.pyplot as plt\n"
   ]
  },
  {
   "cell_type": "code",
   "execution_count": 3,
   "metadata": {
    "execution": {
     "iopub.execute_input": "2020-08-09T01:28:46.401106Z",
     "iopub.status.busy": "2020-08-09T01:28:46.400481Z",
     "iopub.status.idle": "2020-08-09T01:28:46.913383Z",
     "shell.execute_reply": "2020-08-09T01:28:46.912760Z"
    },
    "papermill": {
     "duration": 0.531576,
     "end_time": "2020-08-09T01:28:46.913490",
     "exception": false,
     "start_time": "2020-08-09T01:28:46.381914",
     "status": "completed"
    },
    "tags": []
   },
   "outputs": [
    {
     "data": {
      "image/png": "[encoded data removed]",
      "text/plain": [
       "<Figure size 432x288 with 2 Axes>"
      ]
     },
     "metadata": {
      "needs_background": "light"
     },
     "output_type": "display_data"
    },
    {
     "data": {
      "image/png": "[encoded data removed]",
      "text/plain": [
       "<Figure size 432x288 with 2 Axes>"
      ]
     },
     "metadata": {
      "needs_background": "light"
     },
     "output_type": "display_data"
    }
   ],
   "source": [
    "reward1 = np.zeros((10,10))\n",
    "reward1[9][9] = 1\n",
    "plt.pcolor(reward1)\n",
    "plt.gca().invert_yaxis()\n",
    "plt.colorbar()\n",
    "plt.title(\"Heatmap - Reward Function 1\")\n",
    "plt.show()\n",
    "\n",
    "reward2 = np.zeros((10,10))\n",
    "reward2[9][9]=10\n",
    "reward2[1][5]=reward2[1][6]= -100\n",
    "for i in [1,2,3,4,5,6]:\n",
    "    reward2[i][4]=-100\n",
    "reward2[2][6]= -100\n",
    "reward2[3][6]= -100\n",
    "reward2[3][7]= -100\n",
    "reward2[3][8]=-100\n",
    "for i in [4,5,6,7]:\n",
    "    reward2[i][8]=-100\n",
    "reward2[7][6]= -100 \n",
    "reward2[7][7]= -100\n",
    "reward2[8][6]= -100\n",
    "plt.pcolor(reward2)\n",
    "plt.gca().invert_yaxis()\n",
    "plt.colorbar()\n",
    "plt.title(\"Heatmap - Reward Function 2\")\n",
    "plt.show()\n"
   ]
  },
  {
   "cell_type": "markdown",
   "execution_count": null,
   "metadata": {
    "papermill": {
     "duration": 0.009497,
     "end_time": "2020-08-09T01:28:46.931782",
     "exception": false,
     "start_time": "2020-08-09T01:28:46.922285",
     "status": "completed"
    },
    "tags": []
   },
   "source": [
    "# Question 2&3"
   ]
  },
  {
   "cell_type": "code",
   "execution_count": 4,
   "metadata": {
    "execution": {
     "iopub.execute_input": "2020-08-09T01:28:46.954652Z",
     "iopub.status.busy": "2020-08-09T01:28:46.954067Z",
     "iopub.status.idle": "2020-08-09T01:28:46.957128Z",
     "shell.execute_reply": "2020-08-09T01:28:46.956534Z"
    },
    "papermill": {
     "duration": 0.017258,
     "end_time": "2020-08-09T01:28:46.957220",
     "exception": false,
     "start_time": "2020-08-09T01:28:46.939962",
     "status": "completed"
    },
    "tags": []
   },
   "outputs": [],
   "source": [
    "state_space = np.tile(np.arange(0, 100, 10), (10, 1)) + np.arange(0, 10, 1).reshape((10, 1))\n",
    "discount_factor = 0.8\n",
    "random_probability = 0.1\n",
    "cur_reward = reward1\n",
    "UP = 0\n",
    "DOWN = 1\n",
    "LEFT = 2\n",
    "RIGHT = 3\n",
    "all_actions = [UP, DOWN, LEFT, RIGHT]"
   ]
  },
  {
   "cell_type": "code",
   "execution_count": 5,
   "metadata": {
    "execution": {
     "iopub.execute_input": "2020-08-09T01:28:46.991813Z",
     "iopub.status.busy": "2020-08-09T01:28:46.986559Z",
     "iopub.status.idle": "2020-08-09T01:28:46.999607Z",
     "shell.execute_reply": "2020-08-09T01:28:46.999134Z"
    },
    "papermill": {
     "duration": 0.034237,
     "end_time": "2020-08-09T01:28:46.999702",
     "exception": false,
     "start_time": "2020-08-09T01:28:46.965465",
     "status": "completed"
    },
    "tags": []
   },
   "outputs": [],
   "source": [
    "\n",
    "def state_to_coordinate(state, state_sets=state_space):\n",
    "    y, x = np.where(state_sets == state)\n",
    "    return (x[0], y[0])\n",
    "\n",
    "def coordinate_to_state(coordinate_x, coordinate_y, state_sets=state_space):\n",
    "    return state_sets[coordinate_y, coordinate_x]\n",
    "\n",
    "def get_valid_actions(state):\n",
    "    valid_actions = all_actions.copy()\n",
    "    x, y = state_to_coordinate(state)\n",
    "    if x == 0:\n",
    "        valid_actions.remove(LEFT)\n",
    "    elif x == 9:\n",
    "        valid_actions.remove(RIGHT)\n",
    "    if y == 0:\n",
    "        valid_actions.remove(UP)\n",
    "    elif y == 9:\n",
    "        valid_actions.remove(DOWN)\n",
    "    return valid_actions\n",
    "\n",
    "def get_next_states_probabilities(cur_state, cur_action):\n",
    "    cur_valid_actions = get_valid_actions(cur_state)\n",
    "    next_probabilities = [0] * 5 # Order UP, DOWN, LEFT, RIGHT, STAY\n",
    "    for action in cur_valid_actions: # w/4 for states inside the grid\n",
    "            next_probabilities[action] = random_probability / 4\n",
    "    \n",
    "    # Calculate the transition probabilities for an action\n",
    "    if (len(cur_valid_actions) == 4): # No boundary cases\n",
    "        next_probabilities[cur_action] += 1 - random_probability\n",
    "        next_probabilities[4] = 0 # Probability to state in the current state is 0\n",
    "    \n",
    "    else: # With probability to move out the grid\n",
    "        next_probabilities[4] = random_probability * (1 - len(cur_valid_actions) / 4)\n",
    "        if cur_action in cur_valid_actions:\n",
    "            next_probabilities[cur_action] += 1 - random_probability\n",
    "        else:\n",
    "            next_probabilities[4] += 1 - random_probability\n",
    "    \n",
    "    return next_probabilities\n",
    "\n",
    "def state_reward(state, reward_function):\n",
    "    x, y = state_to_coordinate(state)\n",
    "    return reward_function[y, x]\n",
    "\n",
    "def get_state_value_function(reward_function):\n",
    "    # Initialize\n",
    "    state_value_function = np.zeros((10, 10))\n",
    "    delta = 1 # Exit flag\n",
    "\n",
    "    while delta > 0.01:\n",
    "        delta = 0 \n",
    "        previous_state_value_function = state_value_function.copy()\n",
    "        # Loop over 100 states\n",
    "        for cur_state in range(100): \n",
    "            cur_x, cur_y = state_to_coordinate(cur_state)\n",
    "            previous_state_value = previous_state_value_function[cur_y, cur_x]\n",
    "            state_value_all_actions = [0] * 4\n",
    "\n",
    "            # Loop over all actions\n",
    "            for cur_action in all_actions:\n",
    "                transition_probabilities = get_next_states_probabilities(cur_state, cur_action) \n",
    "\n",
    "                # Sum over one action\n",
    "                for prob_idx in range(len(transition_probabilities)):\n",
    "                    prob = transition_probabilities[prob_idx]\n",
    "                    if (prob != 0): # Remove invalid case\n",
    "                        # Next state coordinate\n",
    "                        next_x = cur_x\n",
    "                        next_y = cur_y\n",
    "                        if prob_idx == 0: # Move up\n",
    "                            next_y -= 1\n",
    "                        elif prob_idx == 1: # Move down\n",
    "                            next_y += 1\n",
    "                        elif prob_idx == 2: # Move left\n",
    "                            next_x -= 1\n",
    "                        elif prob_idx == 3: # Move right\n",
    "                            next_x += 1\n",
    "                        else: # Stay in the state\n",
    "                            pass\n",
    "                        next_state = coordinate_to_state(next_x, next_y)\n",
    "                        state_value_all_actions[cur_action] += prob * (state_reward(next_state, reward_function) + \n",
    "                                                                       discount_factor * previous_state_value_function[next_y, next_x])\n",
    "\n",
    "            cur_state_value = max(state_value_all_actions)\n",
    "            state_value_function[cur_y, cur_x] = cur_state_value\n",
    "            delta = max(delta, abs(previous_state_value - cur_state_value)) \n",
    "    return state_value_function\n",
    "\n"
   ]
  },
  {
   "cell_type": "code",
   "execution_count": 6,
   "metadata": {
    "execution": {
     "iopub.execute_input": "2020-08-09T01:28:47.041190Z",
     "iopub.status.busy": "2020-08-09T01:28:47.030897Z",
     "iopub.status.idle": "2020-08-09T01:28:47.832778Z",
     "shell.execute_reply": "2020-08-09T01:28:47.833238Z"
    },
    "papermill": {
     "duration": 0.825313,
     "end_time": "2020-08-09T01:28:47.833373",
     "exception": false,
     "start_time": "2020-08-09T01:28:47.008060",
     "status": "completed"
    },
    "tags": []
   },
   "outputs": [
    {
     "data": {
      "image/png": "[encoded data removed]",
      "text/plain": [
       "<Figure size 432x288 with 1 Axes>"
      ]
     },
     "metadata": {
      "needs_background": "light"
     },
     "output_type": "display_data"
    }
   ],
   "source": [
    "from matplotlib.colors import ListedColormap\n",
    "\n",
    "def plot_optimal_value_map(table,title=\"\"):\n",
    "    plt.pcolor(table, cmap=ListedColormap(['white']), edgecolors='black')\n",
    "    plt.gca().invert_yaxis()\n",
    "    plt.axis('equal')\n",
    "    plt.title(title)\n",
    "    for y in range(table.shape[0]):\n",
    "        for x in range(table.shape[1]):\n",
    "            if(table[y, x] >= 10):\n",
    "                plt.text(x + 0.5, y + 0.5, '%.1f' % table[y, x],\n",
    "                horizontalalignment='center',\n",
    "                verticalalignment='center', fontsize=7.5)\n",
    "            else:\n",
    "                plt.text(x + 0.5, y + 0.5, '%.2f' % table[y, x],\n",
    "                    horizontalalignment='center',\n",
    "                    verticalalignment='center', fontsize=7.5)\n",
    "    plt.show()\n",
    "state_value_function_1 = get_state_value_function(reward1)\n",
    "plot_optimal_value_map(state_value_function_1)"
   ]
  },
  {
   "cell_type": "code",
   "execution_count": 7,
   "metadata": {
    "execution": {
     "iopub.execute_input": "2020-08-09T01:28:47.862518Z",
     "iopub.status.busy": "2020-08-09T01:28:47.861940Z",
     "iopub.status.idle": "2020-08-09T01:28:48.067756Z",
     "shell.execute_reply": "2020-08-09T01:28:48.068639Z"
    },
    "papermill": {
     "duration": 0.22685,
     "end_time": "2020-08-09T01:28:48.068820",
     "exception": false,
     "start_time": "2020-08-09T01:28:47.841970",
     "status": "completed"
    },
    "tags": []
   },
   "outputs": [
    {
     "name": "stdout",
     "output_type": "stream",
     "text": [
      "Optimal value of states: \n"
     ]
    },
    {
     "data": {
      "image/png": "[encoded data removed]",
      "text/plain": [
       "<Figure size 432x288 with 2 Axes>"
      ]
     },
     "metadata": {
      "needs_background": "light"
     },
     "output_type": "display_data"
    }
   ],
   "source": [
    "def plot_heat_map(heat_array, title):\n",
    "    min_value = np.min(heat_array)\n",
    "    max_value = np.max(heat_array)\n",
    "    plt.pcolor(heat_array)\n",
    "    plt.ylim(top=0, bottom=10)\n",
    "    plt.xlim(left=0, right=10)\n",
    "    plt.colorbar()\n",
    "    plt.title(title)\n",
    "    plt.show()\n",
    "print('Optimal value of states: ')\n",
    "pd.set_option('precision', 3)\n",
    "plot_heat_map(state_value_function_1, 's')# , 'Heat map of state values using reward function 1')"
   ]
  },
  {
   "cell_type": "markdown",
   "execution_count": null,
   "metadata": {
    "papermill": {
     "duration": 0.0086,
     "end_time": "2020-08-09T01:28:48.087128",
     "exception": false,
     "start_time": "2020-08-09T01:28:48.078528",
     "status": "completed"
    },
    "tags": []
   },
   "source": [
    "# Question 5"
   ]
  },
  {
   "cell_type": "code",
   "execution_count": 8,
   "metadata": {
    "execution": {
     "iopub.execute_input": "2020-08-09T01:28:48.155186Z",
     "iopub.status.busy": "2020-08-09T01:28:48.154178Z",
     "iopub.status.idle": "2020-08-09T01:28:48.158204Z",
     "shell.execute_reply": "2020-08-09T01:28:48.157688Z"
    },
    "papermill": {
     "duration": 0.062064,
     "end_time": "2020-08-09T01:28:48.158304",
     "exception": false,
     "start_time": "2020-08-09T01:28:48.096240",
     "status": "completed"
    },
    "tags": []
   },
   "outputs": [
    {
     "name": "stdout",
     "output_type": "stream",
     "text": [
      "Optimal policy using arrows: \n",
      "   0  1  2  3  4  5  6  7  8  9\n",
      "0  →  →  →  →  →  →  →  →  ↓  ↓\n",
      "1  ↓  ↓  →  →  →  →  ↓  ↓  ↓  ↓\n",
      "2  ↓  ↓  →  →  →  ↓  ↓  ↓  ↓  ↓\n",
      "3  ↓  ↓  ↓  ↓  ↓  ↓  ↓  ↓  ↓  ↓\n",
      "4  ↓  ↓  ↓  →  →  ↓  ↓  ↓  ↓  ↓\n",
      "5  ↓  ↓  →  →  →  ↓  ↓  ↓  ↓  ↓\n",
      "6  ↓  →  →  →  →  →  ↓  ↓  ↓  ↓\n",
      "7  ↓  →  →  →  →  →  →  ↓  ↓  ↓\n",
      "8  →  →  →  →  →  →  →  →  ↓  ↓\n",
      "9  →  →  →  →  →  →  →  →  →  ↓\n"
     ]
    }
   ],
   "source": [
    "\n",
    "\n",
    "# policy function\n",
    "def print_optimal_policy_with_arrows(optimal_policy_function):\n",
    "    optimal_policy_symbols = np.chararray((10, 10), unicode=True)\n",
    "    #arrow_symbols = ['⇧','⇩','⇦','⇨']\n",
    "    arrow_symbols = ['↑','↓','←','→']\n",
    "    for i in range(4):\n",
    "        optimal_policy_symbols[optimal_policy_function == i] = arrow_symbols[i]\n",
    "    print(pd.DataFrame(optimal_policy_symbols))\n",
    "    \n",
    "\n",
    "def get_optimal_policy_function(state_value_function, reward_function):\n",
    "    # Initialize\n",
    "    optimal_policy_function = np.zeros((10, 10))\n",
    "\n",
    "    # Loop all states\n",
    "    for cur_state in range(100):  \n",
    "        cur_x, cur_y = state_to_coordinate(cur_state)\n",
    "        state_value_all_actions = [0] * 4\n",
    "\n",
    "        # Loop over all actions\n",
    "        for cur_action in all_actions:\n",
    "            transition_probabilities = get_next_states_probabilities(cur_state, cur_action) \n",
    "\n",
    "            # Sum over one action\n",
    "            for prob_idx in range(len(transition_probabilities)):\n",
    "                prob = transition_probabilities[prob_idx]\n",
    "                if (prob != 0): # Remove invalid case\n",
    "                    # Next state coordinate\n",
    "                    next_x = cur_x\n",
    "                    next_y = cur_y\n",
    "                    if prob_idx == 0: # Move up\n",
    "                        next_y -= 1\n",
    "                    elif prob_idx == 1: # Move down\n",
    "                        next_y += 1\n",
    "                    elif prob_idx == 2: # Move left\n",
    "                        next_x -= 1\n",
    "                    elif prob_idx == 3: # Move right\n",
    "                        next_x += 1\n",
    "                    else: # Stay in the state\n",
    "                        pass\n",
    "                    next_state = coordinate_to_state(next_x, next_y)\n",
    "                    state_value_all_actions[cur_action] += prob * (state_reward(next_state, reward_function) + discount_factor * state_value_function[next_y, next_x])\n",
    "        \n",
    "        #state_value_all_actions = np.around(state_value_all_actions, 3) # Round the value to 5 dicimal5\n",
    "        optimal_action = np.argmax(state_value_all_actions)\n",
    "        optimal_policy_function[cur_y, cur_x] = optimal_action\n",
    "        #print('State: ', cur_state)\n",
    "        #print(state_value_all_actions)\n",
    "    return optimal_policy_function.astype(int)\n",
    "\n",
    "optimal_policy_function_1 = get_optimal_policy_function(state_value_function_1, reward1)\n",
    "print('Optimal policy using arrows: ')\n",
    "print_optimal_policy_with_arrows(optimal_policy_function_1)"
   ]
  },
  {
   "cell_type": "markdown",
   "execution_count": null,
   "metadata": {
    "papermill": {
     "duration": 0.009117,
     "end_time": "2020-08-09T01:28:48.176372",
     "exception": false,
     "start_time": "2020-08-09T01:28:48.167255",
     "status": "completed"
    },
    "tags": []
   },
   "source": [
    "# Question 6"
   ]
  },
  {
   "cell_type": "code",
   "execution_count": 9,
   "metadata": {
    "execution": {
     "iopub.execute_input": "2020-08-09T01:28:48.255167Z",
     "iopub.status.busy": "2020-08-09T01:28:48.213823Z",
     "iopub.status.idle": "2020-08-09T01:28:49.285288Z",
     "shell.execute_reply": "2020-08-09T01:28:49.285763Z"
    },
    "papermill": {
     "duration": 1.100502,
     "end_time": "2020-08-09T01:28:49.285915",
     "exception": false,
     "start_time": "2020-08-09T01:28:48.185413",
     "status": "completed"
    },
    "tags": []
   },
   "outputs": [
    {
     "name": "stdout",
     "output_type": "stream",
     "text": [
      "Optimal value of states: \n"
     ]
    },
    {
     "data": {
      "image/png": "[encoded data removed]",
      "text/plain": [
       "<Figure size 432x288 with 1 Axes>"
      ]
     },
     "metadata": {
      "needs_background": "light"
     },
     "output_type": "display_data"
    }
   ],
   "source": [
    "state_value_function_2 = get_state_value_function(reward2)\n",
    "print('Optimal value of states: ')\n",
    "pd.set_option('precision', 3)\n",
    "plot_optimal_value_map(state_value_function_2)\n"
   ]
  },
  {
   "cell_type": "markdown",
   "execution_count": null,
   "metadata": {
    "papermill": {
     "duration": 0.00927,
     "end_time": "2020-08-09T01:28:49.305385",
     "exception": false,
     "start_time": "2020-08-09T01:28:49.296115",
     "status": "completed"
    },
    "tags": []
   },
   "source": [
    "# Question 7"
   ]
  },
  {
   "cell_type": "code",
   "execution_count": 10,
   "metadata": {
    "execution": {
     "iopub.execute_input": "2020-08-09T01:28:49.333592Z",
     "iopub.status.busy": "2020-08-09T01:28:49.332712Z",
     "iopub.status.idle": "2020-08-09T01:28:49.523471Z",
     "shell.execute_reply": "2020-08-09T01:28:49.522863Z"
    },
    "papermill": {
     "duration": 0.208769,
     "end_time": "2020-08-09T01:28:49.523565",
     "exception": false,
     "start_time": "2020-08-09T01:28:49.314796",
     "status": "completed"
    },
    "tags": []
   },
   "outputs": [
    {
     "data": {
      "image/png": "[encoded data removed]",
      "text/plain": [
       "<Figure size 432x288 with 2 Axes>"
      ]
     },
     "metadata": {
      "needs_background": "light"
     },
     "output_type": "display_data"
    }
   ],
   "source": [
    "plot_heat_map(state_value_function_2, 's')# , 'Heat map of state values using reward function 1')"
   ]
  },
  {
   "cell_type": "markdown",
   "execution_count": null,
   "metadata": {
    "papermill": {
     "duration": 0.009612,
     "end_time": "2020-08-09T01:28:49.542828",
     "exception": false,
     "start_time": "2020-08-09T01:28:49.533216",
     "status": "completed"
    },
    "tags": []
   },
   "source": [
    "# Question 8"
   ]
  },
  {
   "cell_type": "code",
   "execution_count": 11,
   "metadata": {
    "execution": {
     "iopub.execute_input": "2020-08-09T01:28:49.596104Z",
     "iopub.status.busy": "2020-08-09T01:28:49.595430Z",
     "iopub.status.idle": "2020-08-09T01:28:49.598751Z",
     "shell.execute_reply": "2020-08-09T01:28:49.598275Z"
    },
    "papermill": {
     "duration": 0.046357,
     "end_time": "2020-08-09T01:28:49.598847",
     "exception": false,
     "start_time": "2020-08-09T01:28:49.552490",
     "status": "completed"
    },
    "tags": []
   },
   "outputs": [
    {
     "name": "stdout",
     "output_type": "stream",
     "text": [
      "Optimal policy using arrows: \n",
      "   0  1  2  3  4  5  6  7  8  9\n",
      "0  ↓  ↓  ↓  ←  ←  →  →  →  →  ↓\n",
      "1  ↓  ↓  ↓  ←  ←  ↑  →  →  →  ↓\n",
      "2  ↓  ↓  ↓  ←  ←  ↓  →  →  →  ↓\n",
      "3  ↓  ↓  ↓  ←  ←  ↓  ↓  ↑  →  ↓\n",
      "4  ↓  ↓  ↓  ←  ←  ↓  ↓  ↓  →  ↓\n",
      "5  ↓  ↓  ↓  ←  ←  ↓  ↓  ←  →  ↓\n",
      "6  ↓  ↓  ↓  ↓  ↓  ↓  ←  ←  →  ↓\n",
      "7  ↓  ↓  ↓  ↓  ↓  ↓  ←  ↓  ↓  ↓\n",
      "8  →  →  →  ↓  ↓  ↓  ↓  ↓  ↓  ↓\n",
      "9  →  →  →  →  →  →  →  →  →  ↓\n"
     ]
    }
   ],
   "source": [
    "optimal_policy_function_2 = get_optimal_policy_function(state_value_function_2, reward2)\n",
    "print('Optimal policy using arrows: ')\n",
    "print_optimal_policy_with_arrows(optimal_policy_function_2)"
   ]
  },
  {
   "cell_type": "markdown",
   "execution_count": null,
   "metadata": {
    "papermill": {
     "duration": 0.009664,
     "end_time": "2020-08-09T01:28:49.618083",
     "exception": false,
     "start_time": "2020-08-09T01:28:49.608419",
     "status": "completed"
    },
    "tags": []
   },
   "source": [
    "# Question 9"
   ]
  },
  {
   "cell_type": "code",
   "execution_count": 12,
   "metadata": {
    "execution": {
     "iopub.execute_input": "2020-08-09T01:28:49.673770Z",
     "iopub.status.busy": "2020-08-09T01:28:49.663109Z",
     "iopub.status.idle": "2020-08-09T01:28:50.218066Z",
     "shell.execute_reply": "2020-08-09T01:28:50.217514Z"
    },
    "papermill": {
     "duration": 0.590249,
     "end_time": "2020-08-09T01:28:50.218169",
     "exception": false,
     "start_time": "2020-08-09T01:28:49.627920",
     "status": "completed"
    },
    "tags": []
   },
   "outputs": [
    {
     "name": "stdout",
     "output_type": "stream",
     "text": [
      "Optimal policy using arrows: \n",
      "   0  1  2  3  4  5  6  7  8  9\n",
      "0  ↑  ↑  ↑  ↑  ↑  ↑  ↑  ↓  ↓  ↓\n",
      "1  ↑  ↑  ↑  ↑  ↑  ↑  ↓  ↓  ↓  ↓\n",
      "2  ↑  ↑  ↑  ↑  ↑  ↓  ↓  ↓  ↓  ↓\n",
      "3  ↑  ↑  ↑  ↑  ↓  ↓  ↓  ↓  ↓  ↓\n",
      "4  ↑  ↑  ↑  →  ↓  ↓  ↓  ↓  ↓  ↓\n",
      "5  ↑  ↑  →  →  →  ↓  ↓  ↓  ↓  ↓\n",
      "6  ↑  →  →  →  →  →  →  ↓  ↓  ↓\n",
      "7  →  →  →  →  →  →  →  →  ↓  ↓\n",
      "8  →  →  →  →  →  →  →  →  ↓  ↓\n",
      "9  →  →  →  →  →  →  →  →  →  ↓\n",
      "Optimal policy using arrows: \n",
      "   0  1  2  3  4  5  6  7  8  9\n",
      "0  ↑  ←  ←  ←  ←  ←  →  →  →  ↑\n",
      "1  ↑  ←  ←  ←  ←  ↑  →  →  →  ↑\n",
      "2  ↓  ↓  ←  ←  ←  ↓  →  →  ↑  ↑\n",
      "3  ↓  ↓  ←  ←  ←  ↓  ↓  ↑  →  ↑\n",
      "4  ↓  ↓  ←  ←  ←  ↓  ↓  ←  →  ↓\n",
      "5  ↓  ↓  ↓  ←  ←  →  ←  ←  →  ↓\n",
      "6  ↓  ↓  ↓  ↓  ↓  ↓  ↑  ←  →  ↓\n",
      "7  ↓  ↓  ↓  ↓  ↓  ↓  ←  ↓  ↓  ↓\n",
      "8  →  →  →  ↓  ↓  ↓  ↓  ↓  ↓  ↓\n",
      "9  →  →  →  →  →  →  →  →  →  ↓\n"
     ]
    }
   ],
   "source": [
    "discount_factor = 0.6\n",
    "\n",
    "state_value_function_1 = get_state_value_function(reward1)\n",
    "optimal_policy_function_1 = get_optimal_policy_function(state_value_function_1, reward1)\n",
    "print('Optimal policy using arrows: ')\n",
    "print_optimal_policy_with_arrows(optimal_policy_function_1)\n",
    "\n",
    "state_value_function_2 = get_state_value_function(reward2)\n",
    "optimal_policy_function_2 = get_optimal_policy_function(state_value_function_2, reward2)\n",
    "print('Optimal policy using arrows: ')\n",
    "print_optimal_policy_with_arrows(optimal_policy_function_2)\n",
    "\n",
    "\n",
    "\n",
    "#change back\n",
    "discount_factor = 0.8\n",
    "\n"
   ]
  },
  {
   "cell_type": "code",
   "execution_count": null,
   "metadata": {
    "papermill": {
     "duration": 0.009773,
     "end_time": "2020-08-09T01:28:50.237939",
     "exception": false,
     "start_time": "2020-08-09T01:28:50.228166",
     "status": "completed"
    },
    "tags": []
   },
   "outputs": [],
   "source": []
  }
 ],
 "metadata": {
  "kernelspec": {
   "display_name": "Python 3",
   "language": "python",
   "name": "python3"
  },
  "language_info": {
   "codemirror_mode": {
    "name": "ipython",
    "version": 3
   },
   "file_extension": ".py",
   "mimetype": "text/x-python",
   "name": "python",
   "nbconvert_exporter": "python",
   "pygments_lexer": "ipython3",
   "version": "3.7.6"
  },
  "papermill": {
   "duration": 8.359749,
   "end_time": "2020-08-09T01:28:50.353368",
   "environment_variables": {},
   "exception": null,
   "input_path": "__notebook__.ipynb",
   "output_path": "__notebook__.ipynb",
   "parameters": {},
   "start_time": "2020-08-09T01:28:41.993619",
   "version": "2.1.0"
  }
 },
 "nbformat": 4,
 "nbformat_minor": 4
}
